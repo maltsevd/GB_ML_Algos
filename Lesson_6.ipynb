{
  "nbformat": 4,
  "nbformat_minor": 0,
  "metadata": {
    "colab": {
      "name": "Lesson_6.ipynb",
      "provenance": []
    },
    "kernelspec": {
      "name": "python3",
      "display_name": "Python 3"
    },
    "language_info": {
      "name": "python"
    }
  },
  "cells": [
    {
      "cell_type": "markdown",
      "metadata": {
        "id": "N1k_nm2OOiVI"
      },
      "source": [
        "# Прошу прощения, не успеваю сделать ДЗ. До конца недели досдам все хвосты и отпишусь в телеграмме. Спасибо за понимание."
      ]
    }
  ]
}