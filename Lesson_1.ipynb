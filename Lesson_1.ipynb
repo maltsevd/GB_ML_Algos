{
  "nbformat": 4,
  "nbformat_minor": 0,
  "metadata": {
    "colab": {
      "name": "Lesson_1.ipynb",
      "provenance": [],
      "collapsed_sections": [],
      "authorship_tag": "ABX9TyPCXeCjThF+Fz90Ojs9jBQb"
    },
    "kernelspec": {
      "name": "python3",
      "display_name": "Python 3"
    },
    "language_info": {
      "name": "python"
    }
  },
  "cells": [
    {
      "cell_type": "markdown",
      "metadata": {
        "id": "IU17nERCogXr"
      },
      "source": [
        "##__1__. Подберите скорость обучения (alpha) и количество итераций (до совпадения ответов с результатами МНК):"
      ]
    },
    {
      "cell_type": "code",
      "metadata": {
        "id": "ei6_sd9do4yL"
      },
      "source": [
        "import numpy as np\n",
        "\n",
        "X = np.array([[1, 1, 1, 1, 1, 1, 1, 1, 1, 1],   # для умножения на intercept\n",
        "              [1, 1, 2, 1, 3, 0, 5, 10, 1, 2]]) # стаж репетитора\n",
        "\n",
        "y = [45, 55, 50, 59, 65, 35, 75, 80, 50, 60] # средний балл ЕГЭ (целевая переменная)"
      ],
      "execution_count": 1,
      "outputs": []
    },
    {
      "cell_type": "code",
      "metadata": {
        "id": "MMSSo2JWpKzM"
      },
      "source": [
        "def calc_mse(y, y_pred):\n",
        "    err = np.mean((y - y_pred)**2)\n",
        "    return err\n",
        "\n",
        "def calc_mae(y, y_pred):\n",
        "    err = np.mean(np.abs(y - y_pred))\n",
        "    return err"
      ],
      "execution_count": 2,
      "outputs": []
    },
    {
      "cell_type": "code",
      "metadata": {
        "id": "Z1In_Dlzo8mN"
      },
      "source": [
        "def model(X, alpha, weights, iter_count):\n",
        "  n = X.shape[1]\n",
        "  a = alpha\n",
        "  w = np.array(weights)\n",
        "  y_pred = 0\n",
        "  w_needed = np.array([47.23214286,  3.91071429])\n",
        "  for i in range(iter_count):\n",
        "      y_pred = np.dot(w, X)\n",
        "      err = calc_mse(y, y_pred)          \n",
        "      for j in range(w.shape[0]):             \n",
        "        w[j] -= alpha * (1/n * 2 * np.sum(X[j] * (y_pred - y)))\n",
        "      if np.allclose(w, w_needed,rtol=1e-11) and err == 45.937499999999986:\n",
        "          print(i, w, err)\n",
        "          # МНК: array([47.23214286,  3.91071429]) 45.937499999999986  "
      ],
      "execution_count": 96,
      "outputs": []
    },
    {
      "cell_type": "markdown",
      "metadata": {
        "id": "m1Gb89IwFal6"
      },
      "source": [
        "## В коде выше возникла проблема со сравнением массивов (точность после запятой указана, но np.allclose всё равно возвращает True при 47.23214285. Другие методы сравнения вообще не работают. Пришлось глазами искать значение. Буду признателен, если подскажете: как сравнивать такие массивы?"
      ]
    },
    {
      "cell_type": "code",
      "metadata": {
        "colab": {
          "base_uri": "https://localhost:8080/"
        },
        "id": "e-vKYm3N0h-5",
        "outputId": "a46d4aae-2fd7-487e-bd1a-092d92db5d8c"
      },
      "source": [
        "print(model(X, 0.013000000000000001, [1, 0.5], 1755))"
      ],
      "execution_count": 99,
      "outputs": [
        {
          "output_type": "stream",
          "text": [
            "1660 [47.23214285  3.91071429] 45.937499999999986\n",
            "1678 [47.23214285  3.91071429] 45.937499999999986\n",
            "1688 [47.23214285  3.91071429] 45.937499999999986\n",
            "1690 [47.23214285  3.91071429] 45.937499999999986\n",
            "1701 [47.23214285  3.91071429] 45.937499999999986\n",
            "1707 [47.23214285  3.91071429] 45.937499999999986\n",
            "1709 [47.23214285  3.91071429] 45.937499999999986\n",
            "1712 [47.23214285  3.91071429] 45.937499999999986\n",
            "1713 [47.23214285  3.91071429] 45.937499999999986\n",
            "1724 [47.23214285  3.91071429] 45.937499999999986\n",
            "1728 [47.23214285  3.91071429] 45.937499999999986\n",
            "1729 [47.23214285  3.91071429] 45.937499999999986\n",
            "1731 [47.23214285  3.91071429] 45.937499999999986\n",
            "1732 [47.23214285  3.91071429] 45.937499999999986\n",
            "1740 [47.23214285  3.91071429] 45.937499999999986\n",
            "1749 [47.23214286  3.91071429] 45.937499999999986\n",
            "None\n"
          ],
          "name": "stdout"
        }
      ]
    },
    {
      "cell_type": "markdown",
      "metadata": {
        "id": "7m5gCYeZJavK"
      },
      "source": [
        "## Alpha подобрана тем же методом перебора.\n",
        "## Ответ: alpha = 0.013000000000000001, iter = 1749"
      ]
    }
  ]
}