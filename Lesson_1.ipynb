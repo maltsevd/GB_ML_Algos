{
  "nbformat": 4,
  "nbformat_minor": 0,
  "metadata": {
    "colab": {
      "name": "Lesson_1.ipynb",
      "provenance": [],
      "collapsed_sections": [],
      "authorship_tag": "ABX9TyOLC1vSDnw4SZFiWFQxmD00"
    },
    "kernelspec": {
      "name": "python3",
      "display_name": "Python 3"
    },
    "language_info": {
      "name": "python"
    }
  },
  "cells": [
    {
      "cell_type": "markdown",
      "metadata": {
        "id": "IU17nERCogXr"
      },
      "source": [
        "##__1__. Подберите скорость обучения (alpha) и количество итераций (до совпадения ответов с результатами МНК):"
      ]
    },
    {
      "cell_type": "code",
      "metadata": {
        "id": "ei6_sd9do4yL"
      },
      "source": [
        "import numpy as np\n",
        "\n",
        "X = np.array([[1, 1, 1, 1, 1, 1, 1, 1, 1, 1],   # для умножения на intercept\n",
        "              [1, 1, 2, 1, 3, 0, 5, 10, 1, 2]]) # стаж репетитора\n",
        "\n",
        "y = [45, 55, 50, 59, 65, 35, 75, 80, 50, 60] # средний балл ЕГЭ (целевая переменная)"
      ],
      "execution_count": 2,
      "outputs": []
    },
    {
      "cell_type": "code",
      "metadata": {
        "id": "MMSSo2JWpKzM"
      },
      "source": [
        "def calc_mse(y, y_pred):\n",
        "    err = np.mean((y - y_pred)**2)\n",
        "    return err\n",
        "\n",
        "def calc_mae(y, y_pred):\n",
        "    err = np.mean(np.abs(y - y_pred))\n",
        "    return err"
      ],
      "execution_count": 3,
      "outputs": []
    },
    {
      "cell_type": "code",
      "metadata": {
        "id": "Z1In_Dlzo8mN"
      },
      "source": [
        "def model(X, alpha, weights, iter_count):\n",
        "  n = X.shape[1]\n",
        "  a = alpha\n",
        "  w = np.array(weights)\n",
        "  y_pred = 0\n",
        "  w_needed = np.array([47.23214286,  3.91071429])\n",
        "  for i in range(iter_count):\n",
        "      y_pred = np.dot(w, X)\n",
        "      err = calc_mse(y, y_pred)          \n",
        "      for j in range(w.shape[0]):             \n",
        "        w[j] -= alpha * (1/n * 2 * np.sum(X[j] * (y_pred - y)))\n",
        "      if np.allclose(w, w_needed,rtol=1e-11) and err == 45.937499999999986:\n",
        "          print(i, w, err)\n",
        "          # МНК: array([47.23214286,  3.91071429]) 45.937499999999986  "
      ],
      "execution_count": 4,
      "outputs": []
    },
    {
      "cell_type": "markdown",
      "metadata": {
        "id": "m1Gb89IwFal6"
      },
      "source": [
        "## В коде выше возникла проблема со сравнением массивов (точность после запятой указана, но np.allclose всё равно возвращает True при 47.23214285. Другие методы сравнения вообще не работают. Пришлось глазами искать значение. Буду признателен, если подскажете: как сравнивать такие массивы?"
      ]
    },
    {
      "cell_type": "code",
      "metadata": {
        "colab": {
          "base_uri": "https://localhost:8080/"
        },
        "id": "e-vKYm3N0h-5",
        "outputId": "a36aad8b-a5d9-4ca2-debc-8c85e7da80db"
      },
      "source": [
        "print(model(X, 0.013000000000000001, [1, 0.5], 1755))"
      ],
      "execution_count": 5,
      "outputs": [
        {
          "output_type": "stream",
          "text": [
            "1660 [47.23214285  3.91071429] 45.937499999999986\n",
            "1678 [47.23214285  3.91071429] 45.937499999999986\n",
            "1688 [47.23214285  3.91071429] 45.937499999999986\n",
            "1690 [47.23214285  3.91071429] 45.937499999999986\n",
            "1701 [47.23214285  3.91071429] 45.937499999999986\n",
            "1707 [47.23214285  3.91071429] 45.937499999999986\n",
            "1709 [47.23214285  3.91071429] 45.937499999999986\n",
            "1712 [47.23214285  3.91071429] 45.937499999999986\n",
            "1713 [47.23214285  3.91071429] 45.937499999999986\n",
            "1724 [47.23214285  3.91071429] 45.937499999999986\n",
            "1728 [47.23214285  3.91071429] 45.937499999999986\n",
            "1729 [47.23214285  3.91071429] 45.937499999999986\n",
            "1731 [47.23214285  3.91071429] 45.937499999999986\n",
            "1732 [47.23214285  3.91071429] 45.937499999999986\n",
            "1740 [47.23214285  3.91071429] 45.937499999999986\n",
            "1749 [47.23214286  3.91071429] 45.937499999999986\n",
            "None\n"
          ],
          "name": "stdout"
        }
      ]
    },
    {
      "cell_type": "markdown",
      "metadata": {
        "id": "7m5gCYeZJavK"
      },
      "source": [
        "## Alpha подобрана тем же методом перебора.\n",
        "## Ответ: alpha = 0.013000000000000001, iter = 1749"
      ]
    },
    {
      "cell_type": "markdown",
      "metadata": {
        "id": "fKbnieQoKGg1"
      },
      "source": [
        "# *2. В этом коде мы избавляемся от итераций по весам, но тут есть ошибка, исправьте ее:"
      ]
    },
    {
      "cell_type": "code",
      "metadata": {
        "colab": {
          "base_uri": "https://localhost:8080/"
        },
        "id": "Ee9w4L9UKOAi",
        "outputId": "75b3eb2f-907d-4e60-8bf7-8fca04e6828a"
      },
      "source": [
        "w = np.array([1, 0.5])\n",
        "alpha = 0.01\n",
        "n = X.shape[1]\n",
        "\n",
        "for i in range(1000):\n",
        "    y_pred = np.dot(w, X)\n",
        "    err = calc_mse(y, y_pred)\n",
        "    '''for j in range(w.shape[0]):\n",
        "        w[j] -= alpha * (1/n * 2 * np.sum(X[j] * (y_pred - y)))'''\n",
        "    w -= alpha * (1/n * 2 * (X @ (y_pred - y)))\n",
        "    if i % 100 == 0:\n",
        "        print(i, w, err) # [47.23214286  3.91071429] 45.937499999999986"
      ],
      "execution_count": 14,
      "outputs": [
        {
          "output_type": "stream",
          "text": [
            "0 [2.102 3.9  ] 3173.15\n",
            "100 [31.88770806  6.74418155] 175.19445858001842\n",
            "200 [41.83683774  4.90699865] 61.9177717428135\n",
            "300 [45.33508261  4.26102097] 47.913169919666785\n",
            "400 [46.56511152  4.03388672] 46.181755648107604\n",
            "500 [46.99760587  3.95402334] 45.96769776787538\n",
            "600 [47.14967657  3.92594232] 45.941233404700036\n",
            "700 [47.20314662  3.91606866] 45.93796156758051\n",
            "800 [47.2219474   3.91259695] 45.93755706443538\n",
            "900 [47.228558    3.91137626] 45.937507054979434\n"
          ],
          "name": "stdout"
        }
      ]
    },
    {
      "cell_type": "markdown",
      "metadata": {
        "id": "8fv1vEr1AvnB"
      },
      "source": [
        "##*3. Вместо того, чтобы задавать количество итераций, задайте условие остановки алгоритма - когда ошибка за итерацию начинает изменяться ниже определенного порога. \n",
        "\n",
        "Сколько нужно сделать итераций, если установить допустимое отклонение mse в размере $\\text{diff}=10^{-6}$, а значение $\\alpha=10^{-2}$?"
      ]
    },
    {
      "cell_type": "code",
      "metadata": {
        "colab": {
          "base_uri": "https://localhost:8080/"
        },
        "id": "ZcFd7CMcDkXy",
        "outputId": "da5b2b1a-96fc-489f-dcc0-a6f124c65423"
      },
      "source": [
        "w = np.array([1, 0.5])\n",
        "alpha = 1e-2\n",
        "n = X.shape[1]\n",
        "diff = 1\n",
        "old_err = np.inf\n",
        "new_err = np.inf\n",
        "i=0\n",
        " \n",
        "while diff >= 1e-6:\n",
        "    y_pred = np.dot(w, X)\n",
        "    new_err = calc_mse(y, y_pred)\n",
        "    w -= alpha * (1/n * 2 * (X @ (y_pred - y)))\n",
        "    i +=1\n",
        "    diff = old_err - new_err\n",
        "    old_err = new_err\n",
        "print(i, w, new_err, diff)\n",
        "     # [47.23214286  3.91071429] 45.937499999999986"
      ],
      "execution_count": 30,
      "outputs": [
        {
          "output_type": "stream",
          "text": [
            "810 [47.22286276  3.91242793] 45.937547277798465 9.987200257910445e-07\n"
          ],
          "name": "stdout"
        }
      ]
    }
  ]
}