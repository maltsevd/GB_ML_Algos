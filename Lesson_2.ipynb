{
  "nbformat": 4,
  "nbformat_minor": 0,
  "metadata": {
    "colab": {
      "name": "Lesson_2.ipynb",
      "provenance": [],
      "collapsed_sections": [],
      "authorship_tag": "ABX9TyO0UEKwkpVyrPCU4jzxcoaH"
    },
    "kernelspec": {
      "name": "python3",
      "display_name": "Python 3"
    },
    "language_info": {
      "name": "python"
    }
  },
  "cells": [
    {
      "cell_type": "markdown",
      "metadata": {
        "id": "ReIEx0fiMch-"
      },
      "source": [
        "#Домашнее задание к лекции №2"
      ]
    },
    {
      "cell_type": "code",
      "metadata": {
        "id": "GQmmir_6eMJi"
      },
      "source": [
        "import numpy as np\n",
        "import matplotlib.pyplot as plt\n",
        "plt.rcParams.update({'font.size': 14,\n",
        "                     'xtick.labelsize': 14})"
      ],
      "execution_count": null,
      "outputs": []
    },
    {
      "cell_type": "markdown",
      "metadata": {
        "id": "JFp6NMtwMktJ"
      },
      "source": [
        "Подготовим датасет:"
      ]
    },
    {
      "cell_type": "code",
      "metadata": {
        "id": "X2iLmLjIeQiD"
      },
      "source": [
        "# К признаку стажа добавим новые признаки\n",
        "X = np.array([[1, 1, 1, 1, 1, 1, 1, 1, 1, 1],\n",
        "              [1, 1, 2, 1, 3, 0, 5, 10, 1, 2],  # стаж репетитора\n",
        "              [500, 700, 750, 600, 1450,        # средняя стоимость занятия\n",
        "               800, 1500, 2000, 450, 1000],\n",
        "              [1, 1, 2, 1, 2, 1, 3, 3, 1, 2]])  # квалификация репетитора\n",
        "               \n",
        "y = [45, 55, 50, 59, 65, 35, 75, 80, 50, 60]    # средний балл ЕГЭ (целевая переменная)"
      ],
      "execution_count": null,
      "outputs": []
    },
    {
      "cell_type": "code",
      "metadata": {
        "id": "KO0RR2lCN35c"
      },
      "source": [
        "def calc_mse(y, y_pred):\n",
        "    err = np.mean((y - y_pred)**2)\n",
        "    return err"
      ],
      "execution_count": null,
      "outputs": []
    },
    {
      "cell_type": "code",
      "metadata": {
        "colab": {
          "base_uri": "https://localhost:8080/"
        },
        "id": "vEqsw7Vteh-L",
        "outputId": "48b60f42-9ed2-482e-cf2f-f0de9fc53e8d"
      },
      "source": [
        "X_st = X.copy().astype(np.float64)\n",
        "def calc_std_feat(x):\n",
        "    s = (x - x.mean()) / x.std()\n",
        "    return s\n",
        "for i in range(1, len(X_st)):\n",
        "  X_st[i] = calc_std_feat(X_st[i])\n",
        "X_st"
      ],
      "execution_count": null,
      "outputs": [
        {
          "output_type": "execute_result",
          "data": {
            "text/plain": [
              "array([[ 1.        ,  1.        ,  1.        ,  1.        ,  1.        ,\n",
              "         1.        ,  1.        ,  1.        ,  1.        ,  1.        ],\n",
              "       [-0.57142857, -0.57142857, -0.21428571, -0.57142857,  0.14285714,\n",
              "        -0.92857143,  0.85714286,  2.64285714, -0.57142857, -0.21428571],\n",
              "       [-0.97958969, -0.56713087, -0.46401617, -0.77336028,  0.97958969,\n",
              "        -0.36090146,  1.08270439,  2.11385144, -1.08270439,  0.05155735],\n",
              "       [-0.89625816, -0.89625816,  0.38411064, -0.89625816,  0.38411064,\n",
              "        -0.89625816,  1.66447944,  1.66447944, -0.89625816,  0.38411064]])"
            ]
          },
          "metadata": {
            "tags": []
          },
          "execution_count": 4
        }
      ]
    },
    {
      "cell_type": "markdown",
      "metadata": {
        "id": "Tum7_ZZbdmKy"
      },
      "source": [
        "##1. Постройте график зависимости весов всех признаков от lambda в L2-регуляризации (на данных из урока)."
      ]
    },
    {
      "cell_type": "code",
      "metadata": {
        "id": "Y2ui30OLfp0u"
      },
      "source": [
        "def eval_model_reg2(X, y, iterations, alpha=1e-4, lambda_=1e-8):\n",
        "    np.random.seed(42)\n",
        "    W = np.random.randn(X.shape[0])\n",
        "    n = X.shape[1]\n",
        "    for i in range(1, iterations + 1):\n",
        "        y_pred = np.dot(W, X)\n",
        "        err = calc_mse(y, y_pred)\n",
        "        W -= alpha * (1/n * 2 * np.dot((y_pred - y), X.T) + 2 * lambda_ * W) \n",
        "        '''if i % (iterations / 10) == 0:\n",
        "            print(i, W, err)'''\n",
        "    return W"
      ],
      "execution_count": null,
      "outputs": []
    },
    {
      "cell_type": "code",
      "metadata": {
        "id": "bk7Q7neqfzhN"
      },
      "source": [
        "x = [[],[],[],[]]\n",
        "for l in np.arange(0.1,100,0.1):\n",
        "  w = eval_model_reg2(X_st, y, iterations=100, alpha=1e-4, lambda_=l)\n",
        "  for i in range(len(w)):\n",
        "    x[i].append(w[i])"
      ],
      "execution_count": null,
      "outputs": []
    },
    {
      "cell_type": "code",
      "metadata": {
        "id": "IMdlMhpD-lVD",
        "colab": {
          "base_uri": "https://localhost:8080/",
          "height": 625
        },
        "outputId": "f6e74083-36f8-412c-8e50-16e264383bbd"
      },
      "source": [
        "fig = plt.figure(figsize=(14, 10))\n",
        "\n",
        "for i in range(len(x)):\n",
        "  plt.plot(np.arange(0.1,100,0.1), x[i], label=f'Feature {i}')\n",
        "plt.title('Labmda/error correlation')\n",
        "plt.xlabel('Lambda')\n",
        "plt.ylabel('Error')\n",
        "plt.grid(True)\n",
        "plt.legend()\n",
        "plt.show()"
      ],
      "execution_count": null,
      "outputs": [
        {
          "output_type": "display_data",
          "data": {
            "image/png": "[encoded data removed]",
            "text/plain": [
              "<Figure size 1008x720 with 1 Axes>"
            ]
          },
          "metadata": {
            "tags": [],
            "needs_background": "light"
          }
        }
      ]
    },
    {
      "cell_type": "markdown",
      "metadata": {
        "id": "S01r4nZ6EkpW"
      },
      "source": [
        "##2. Можно ли к одному и тому же признаку применить сразу и нормализацию, и стандартизацию?"
      ]
    },
    {
      "cell_type": "markdown",
      "metadata": {
        "id": "MOdib0DCGJBv"
      },
      "source": [
        "###Для начала, реализуем функцию нормализации:"
      ]
    },
    {
      "cell_type": "code",
      "metadata": {
        "id": "UTkr1V0UBSFQ"
      },
      "source": [
        "def calc_norm_feat(x):\n",
        "  X_norm = x.copy().astype(np.float64) \n",
        "  for i in range(1, len(X_norm)):\n",
        "    for j in range(len(X_norm[i])):\n",
        "      X_norm[i][j] = (x[i][j]-min(x[i]))/(max(x[i])-min(x[i]))\n",
        "  return X_norm"
      ],
      "execution_count": null,
      "outputs": []
    },
    {
      "cell_type": "markdown",
      "metadata": {
        "id": "elKslEPMGUQy"
      },
      "source": [
        "###И немного оптимизируем функцию стандартизации из урока:"
      ]
    },
    {
      "cell_type": "code",
      "metadata": {
        "id": "Ash9wtGNGfvW"
      },
      "source": [
        "def calc_std_feat(x):\n",
        "  X_st = x.copy().astype(np.float64) \n",
        "  for i in range(1, len(X_st)):\n",
        "    for j in range(len(X_st[i])):\n",
        "      X_st[i][j] = (x[i][j]-x[i].mean())/x[i].std()\n",
        "  return X_st"
      ],
      "execution_count": null,
      "outputs": []
    },
    {
      "cell_type": "code",
      "metadata": {
        "colab": {
          "base_uri": "https://localhost:8080/"
        },
        "id": "-DTpqg1YDXkq",
        "outputId": "009fa292-0afc-4924-b32e-001814d41ed7"
      },
      "source": [
        "X_norm = calc_norm_feat(X)\n",
        "X_st = calc_std_feat(X)\n",
        "print(f'Norm: {X_norm}\\n Std: {X_st}')"
      ],
      "execution_count": null,
      "outputs": [
        {
          "output_type": "stream",
          "text": [
            "Norm: [[1.         1.         1.         1.         1.         1.\n",
            "  1.         1.         1.         1.        ]\n",
            " [0.1        0.1        0.2        0.1        0.3        0.\n",
            "  0.5        1.         0.1        0.2       ]\n",
            " [0.03225806 0.16129032 0.19354839 0.09677419 0.64516129 0.22580645\n",
            "  0.67741935 1.         0.         0.35483871]\n",
            " [0.         0.         0.5        0.         0.5        0.\n",
            "  1.         1.         0.         0.5       ]]\n",
            " Std: [[ 1.          1.          1.          1.          1.          1.\n",
            "   1.          1.          1.          1.        ]\n",
            " [-0.57142857 -0.57142857 -0.21428571 -0.57142857  0.14285714 -0.92857143\n",
            "   0.85714286  2.64285714 -0.57142857 -0.21428571]\n",
            " [-0.97958969 -0.56713087 -0.46401617 -0.77336028  0.97958969 -0.36090146\n",
            "   1.08270439  2.11385144 -1.08270439  0.05155735]\n",
            " [-0.89625816 -0.89625816  0.38411064 -0.89625816  0.38411064 -0.89625816\n",
            "   1.66447944  1.66447944 -0.89625816  0.38411064]]\n"
          ],
          "name": "stdout"
        }
      ]
    },
    {
      "cell_type": "code",
      "metadata": {
        "colab": {
          "base_uri": "https://localhost:8080/"
        },
        "id": "Xr16A6KPHyR3",
        "outputId": "3d06e498-4fc8-4a82-8ef7-a1993b228665"
      },
      "source": [
        "X_norm_st = calc_norm_feat(calc_std_feat(X))\n",
        "X_norm_st"
      ],
      "execution_count": null,
      "outputs": [
        {
          "output_type": "execute_result",
          "data": {
            "text/plain": [
              "array([[1.        , 1.        , 1.        , 1.        , 1.        ,\n",
              "        1.        , 1.        , 1.        , 1.        , 1.        ],\n",
              "       [0.1       , 0.1       , 0.2       , 0.1       , 0.3       ,\n",
              "        0.        , 0.5       , 1.        , 0.1       , 0.2       ],\n",
              "       [0.03225806, 0.16129032, 0.19354839, 0.09677419, 0.64516129,\n",
              "        0.22580645, 0.67741935, 1.        , 0.        , 0.35483871],\n",
              "       [0.        , 0.        , 0.5       , 0.        , 0.5       ,\n",
              "        0.        , 1.        , 1.        , 0.        , 0.5       ]])"
            ]
          },
          "metadata": {
            "tags": []
          },
          "execution_count": 50
        }
      ]
    },
    {
      "cell_type": "markdown",
      "metadata": {
        "id": "VAK3pvDjJfBP"
      },
      "source": [
        "###В коде ниже видно, что стандартизация нормализвонных признаков даёт тот же результат, что и стандартизация исходной выборки."
      ]
    },
    {
      "cell_type": "code",
      "metadata": {
        "colab": {
          "base_uri": "https://localhost:8080/"
        },
        "id": "ksR6lJgtIF18",
        "outputId": "e515cb45-cb5a-44aa-9f3e-1477c8fa8c14"
      },
      "source": [
        "X_norm = calc_norm_feat(X)\n",
        "X_st = calc_std_feat(X)\n",
        "X_st_norm = calc_std_feat(X_norm)\n",
        "print(f'{X_st} \\n{X_st_norm}')\n",
        "print(f'Разность векторов: {round(np.linalg.norm(X_st-X_st_norm))}')"
      ],
      "execution_count": null,
      "outputs": [
        {
          "output_type": "stream",
          "text": [
            "[[ 1.          1.          1.          1.          1.          1.\n",
            "   1.          1.          1.          1.        ]\n",
            " [-0.57142857 -0.57142857 -0.21428571 -0.57142857  0.14285714 -0.92857143\n",
            "   0.85714286  2.64285714 -0.57142857 -0.21428571]\n",
            " [-0.97958969 -0.56713087 -0.46401617 -0.77336028  0.97958969 -0.36090146\n",
            "   1.08270439  2.11385144 -1.08270439  0.05155735]\n",
            " [-0.89625816 -0.89625816  0.38411064 -0.89625816  0.38411064 -0.89625816\n",
            "   1.66447944  1.66447944 -0.89625816  0.38411064]] \n",
            "[[ 1.          1.          1.          1.          1.          1.\n",
            "   1.          1.          1.          1.        ]\n",
            " [-0.57142857 -0.57142857 -0.21428571 -0.57142857  0.14285714 -0.92857143\n",
            "   0.85714286  2.64285714 -0.57142857 -0.21428571]\n",
            " [-0.97958969 -0.56713087 -0.46401617 -0.77336028  0.97958969 -0.36090146\n",
            "   1.08270439  2.11385144 -1.08270439  0.05155735]\n",
            " [-0.89625816 -0.89625816  0.38411064 -0.89625816  0.38411064 -0.89625816\n",
            "   1.66447944  1.66447944 -0.89625816  0.38411064]]\n",
            "Разность векторов: 0\n"
          ],
          "name": "stdout"
        }
      ]
    },
    {
      "cell_type": "markdown",
      "metadata": {
        "id": "TUwEFggrJ0xR"
      },
      "source": [
        "###То же справедливо и для обратоной операции:"
      ]
    },
    {
      "cell_type": "code",
      "metadata": {
        "colab": {
          "base_uri": "https://localhost:8080/"
        },
        "id": "2L5m-0nKJ5pI",
        "outputId": "4a771ad6-eb57-44a0-c8c7-36e5ce0f7d4d"
      },
      "source": [
        "X_norm = calc_norm_feat(X)\n",
        "X_st = calc_std_feat(X)\n",
        "X_norm_st = calc_norm_feat(X_st)\n",
        "print(f'{X_norm} \\n{X_norm_st}')\n",
        "print(f'Разность векторов: {round(np.linalg.norm(X_norm-X_norm_st))}')"
      ],
      "execution_count": null,
      "outputs": [
        {
          "output_type": "stream",
          "text": [
            "[[1.         1.         1.         1.         1.         1.\n",
            "  1.         1.         1.         1.        ]\n",
            " [0.1        0.1        0.2        0.1        0.3        0.\n",
            "  0.5        1.         0.1        0.2       ]\n",
            " [0.03225806 0.16129032 0.19354839 0.09677419 0.64516129 0.22580645\n",
            "  0.67741935 1.         0.         0.35483871]\n",
            " [0.         0.         0.5        0.         0.5        0.\n",
            "  1.         1.         0.         0.5       ]] \n",
            "[[1.         1.         1.         1.         1.         1.\n",
            "  1.         1.         1.         1.        ]\n",
            " [0.1        0.1        0.2        0.1        0.3        0.\n",
            "  0.5        1.         0.1        0.2       ]\n",
            " [0.03225806 0.16129032 0.19354839 0.09677419 0.64516129 0.22580645\n",
            "  0.67741935 1.         0.         0.35483871]\n",
            " [0.         0.         0.5        0.         0.5        0.\n",
            "  1.         1.         0.         0.5       ]]\n",
            "Разность векторов: 0\n"
          ],
          "name": "stdout"
        }
      ]
    },
    {
      "cell_type": "markdown",
      "metadata": {
        "id": "kZoarFLMK9rP"
      },
      "source": [
        "###Пришел к выводу, что т.к. оба метода масштабировния приводят к результату не меняя вида распределения, то дальнейшие манипуляции приводят к значениям с тем же распределением $X_{st}(X) = X_{st}(X_{norm})$."
      ]
    },
    {
      "cell_type": "markdown",
      "metadata": {
        "id": "v2AJrfMwMYa6"
      },
      "source": [
        "#3. *Напишите функцию наподобие eval_model_reg2, но для применения L1-регуляризации."
      ]
    },
    {
      "cell_type": "code",
      "metadata": {
        "id": "9-PClxHjMz6e"
      },
      "source": [
        "def eval_model_reg2(X, y, iterations, alpha=1e-4, lambda_=1e-8):\n",
        "    np.random.seed(42)\n",
        "    W = np.random.randn(X.shape[0])\n",
        "    n = X.shape[1]\n",
        "    for i in range(1, iterations + 1):\n",
        "        y_pred = np.dot(W, X)\n",
        "        err = calc_mse(y, y_pred)\n",
        "        W -= alpha * (1/n * 2 * np.dot((y_pred - y), X.T) + lambda_* W) \n",
        "        '''if i % (iterations / 10) == 0:\n",
        "            print(i, W, err)'''\n",
        "    return W"
      ],
      "execution_count": null,
      "outputs": []
    }
  ]
}